{
 "cells": [
  {
   "cell_type": "code",
   "execution_count": 7,
   "source": [
    "# Download the helper library from https://www.twilio.com/docs/python/install\r\n",
    "import os\r\n",
    "from twilio.rest import Client\r\n",
    "from dotenv import load_dotenv\r\n",
    "load_dotenv()\r\n",
    "\r\n",
    "\r\n",
    "# Find your Account SID and Auth Token at twilio.com/console\r\n",
    "# and set the environment variables. See http://twil.io/secure\r\n",
    "account_sid = 'ACcd99d0ef7c6e5a8788f01331229a6bae'\r\n",
    "auth_token = '04173d66a3e8874725fd6d56e805b132'\r\n",
    "#account_sid = os.getenv('TWILIO_ACCOUNT_SID')\r\n",
    "#auth_token = os.getenv('TWILIO_AUTH_TOKEN')\r\n",
    "print(account_sid, auth_token)\r\n",
    "client = Client(account_sid, auth_token)\r\n",
    "\r\n",
    "\r\n",
    "message = client.messages \\\r\n",
    "                .create(\r\n",
    "                     body=\"Arbitrage Oppurtunity Found!\",\r\n",
    "                     from_='+19416134207',\r\n",
    "                     to='+16467966700'\r\n",
    "                 )\r\n",
    "\r\n",
    "print(message.sid)\r\n"
   ],
   "outputs": [
    {
     "output_type": "stream",
     "name": "stdout",
     "text": [
      "ACcd99d0ef7c6e5a8788f01331229a6bae 04173d66a3e8874725fd6d56e805b132\n"
     ]
    }
   ],
   "metadata": {}
  }
 ],
 "metadata": {
  "orig_nbformat": 4,
  "language_info": {
   "name": "python",
   "version": "3.7.10",
   "mimetype": "text/x-python",
   "codemirror_mode": {
    "name": "ipython",
    "version": 3
   },
   "pygments_lexer": "ipython3",
   "nbconvert_exporter": "python",
   "file_extension": ".py"
  },
  "kernelspec": {
   "name": "python3",
   "display_name": "Python 3.7.10 64-bit ('dev': conda)"
  },
  "interpreter": {
   "hash": "48390d2833da2247df558e4a56e27d844f4df4c589404b283c484f42d87c3812"
  }
 },
 "nbformat": 4,
 "nbformat_minor": 2
}