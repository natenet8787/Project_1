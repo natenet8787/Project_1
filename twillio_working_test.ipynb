{
 "cells": [
  {
   "cell_type": "code",
   "execution_count": 5,
   "source": [
    "# Download the helper library from https://www.twilio.com/docs/python/install\r\n",
    "import os\r\n",
    "from twilio.rest import Client\r\n",
    "\r\n",
    "\r\n",
    "# Find your Account SID and Auth Token at twilio.com/console\r\n",
    "# and set the environment variables. See http://twil.io/secure\r\n",
    "account_sid = os.environ['TWILIO_ACCOUNT_SID']\r\n",
    "auth_token = os.environ['TWILIO_AUTH_TOKEN']\r\n",
    "client = Client(account_sid, auth_token)\r\n",
    "\r\n",
    "message = client.messages \\\r\n",
    "                .create(\r\n",
    "                     body=\"Arbitrage Oppurtunity Found!\",\r\n",
    "                     from_='+19416134207',\r\n",
    "                     to={'+16467966700','+16463975265', '+16467964307'}\r\n",
    "                 )\r\n",
    "\r\n",
    "print(message.sid)\r\n"
   ],
   "outputs": [
    {
     "output_type": "stream",
     "name": "stdout",
     "text": [
      "SM65e6dc3007974a75bb8e15ffa3d24929\n"
     ]
    }
   ],
   "metadata": {}
  }
 ],
 "metadata": {
  "orig_nbformat": 4,
  "language_info": {
   "name": "python",
   "version": "3.8.5",
   "mimetype": "text/x-python",
   "codemirror_mode": {
    "name": "ipython",
    "version": 3
   },
   "pygments_lexer": "ipython3",
   "nbconvert_exporter": "python",
   "file_extension": ".py"
  },
  "kernelspec": {
   "name": "python3",
   "display_name": "Python 3.8.5 64-bit ('dev': conda)"
  },
  "interpreter": {
   "hash": "b6e21b9e413ffd41e300679a127b447b2daf80c84032fd237b8844621ec76af3"
  }
 },
 "nbformat": 4,
 "nbformat_minor": 2
}