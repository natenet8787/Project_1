{
 "cells": [
  {
   "cell_type": "code",
   "execution_count": 1,
   "source": [
    "#import the necessary module!\r\n",
    "from plyer import notification\r\n",
    "\r\n",
    "\r\n"
   ],
   "outputs": [],
   "metadata": {}
  },
  {
   "cell_type": "code",
   "execution_count": 2,
   "source": [
    "#specify the parameters\r\n",
    "title = 'Arbitrage Oppurtunity Found'\r\n",
    "\r\n",
    "message= 'Initiate Trading Strategy!'\r\n",
    "\r\n",
    "notification.notify(title= title,\r\n",
    "                    message= message,\r\n",
    "                    app_icon = None,\r\n",
    "                    timeout= 1,\r\n",
    "                    toast=False)"
   ],
   "outputs": [],
   "metadata": {}
  },
  {
   "cell_type": "code",
   "execution_count": null,
   "source": [],
   "outputs": [],
   "metadata": {}
  }
 ],
 "metadata": {
  "kernelspec": {
   "name": "python3",
   "display_name": "Python 3.8.5 64-bit ('dev': conda)"
  },
  "language_info": {
   "codemirror_mode": {
    "name": "ipython",
    "version": 3
   },
   "file_extension": ".py",
   "mimetype": "text/x-python",
   "name": "python",
   "nbconvert_exporter": "python",
   "pygments_lexer": "ipython3",
   "version": "3.8.5"
  },
  "interpreter": {
   "hash": "b6e21b9e413ffd41e300679a127b447b2daf80c84032fd237b8844621ec76af3"
  }
 },
 "nbformat": 4,
 "nbformat_minor": 5
}