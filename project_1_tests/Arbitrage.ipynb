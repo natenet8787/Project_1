{
 "cells": [
  {
   "cell_type": "code",
   "execution_count": 1,
   "source": [
    "import json, urllib.request, sys, math, re\r\n",
    "import numpy as np\r\n",
    "\r\n",
    "graph = {}\r\n",
    "paths = []"
   ],
   "outputs": [],
   "metadata": {}
  },
  {
   "cell_type": "code",
   "execution_count": 2,
   "source": [
    "def main():\r\n",
    "    forex_rates = get_rates()\r\n",
    "    print(\"Current Forex Rates:\")\r\n",
    "    print(forex_rates)\r\n",
    "    print(\"\\n\")\r\n",
    "    gr = get_graph(forex_rates)\r\n",
    "    \r\n",
    "    for key in graph:\r\n",
    "        path = bellman_ford(graph, key)\r\n",
    "        if path not in paths and not None:\r\n",
    "            paths.append(path)\r\n",
    "\r\n",
    "    for path in paths:\r\n",
    "        if path == None:\r\n",
    "            print(\"No Arbitrage opportunity detected in current rates :(\")\r\n",
    "        else:\r\n",
    "            money = 100\r\n",
    "            print(\"<---Arbitrage cycle detected--->\")\r\n",
    "            print(\"Starting with %(money)i in %(currency)s\" % {\"money\":money,\"currency\":path[0]})\r\n",
    "\r\n",
    "            for i,value in enumerate(path):\r\n",
    "                if i+1 < len(path):\r\n",
    "                    start = path[i]\r\n",
    "                    end = path[i+1]\r\n",
    "                    rate = math.exp(-graph[start][end])\r\n",
    "                    money *= rate\r\n",
    "                    print(\"%(start)s to %(end)s at %(rate)f = %(money)f\" % {\"start\":start,\"end\":end,\"rate\":rate,\"money\":money})\r\n",
    "        print(\"\\n\")"
   ],
   "outputs": [],
   "metadata": {}
  },
  {
   "cell_type": "code",
   "execution_count": 3,
   "source": [
    "def get_rates():\r\n",
    "    try:\r\n",
    "        forex_url = urllib.request.urlopen(\"http://fx.priceonomics.com/v1/rates/\")\r\n",
    "        forex_r = forex_url.read()\r\n",
    "        rates = json.loads(forex_r)\r\n",
    "    except Exception as e:\r\n",
    "        print >>sys.stderr, \"Error getting rates:\", e\r\n",
    "        sys.exit(1)\r\n",
    "    \r\n",
    "    return rates"
   ],
   "outputs": [],
   "metadata": {}
  },
  {
   "cell_type": "code",
   "execution_count": 4,
   "source": [
    "def get_graph(forex_rates):\r\n",
    "    pattern = re.compile(\"([A-Z]{3})_([A-Z]{3})\")\r\n",
    "    for key in forex_rates:\r\n",
    "        matches = pattern.match(key)\r\n",
    "        conversion_rate = -math.log(float(forex_rates[key]))\r\n",
    "        from_rate = matches.group(1)\r\n",
    "        to_rate = matches.group(2)\r\n",
    "        if from_rate != to_rate:\r\n",
    "            if from_rate not in graph:\r\n",
    "                graph[from_rate] = {}\r\n",
    "            graph[from_rate][to_rate] = float(conversion_rate)\r\n",
    "    return graph"
   ],
   "outputs": [],
   "metadata": {}
  },
  {
   "cell_type": "code",
   "execution_count": 5,
   "source": [
    "def initialize(graph, source):\r\n",
    "    d = {} # Stands for destination\r\n",
    "    p = {} # Stands for predecessor\r\n",
    "    for node in graph:\r\n",
    "        d[node] = float('Inf') # We start admiting that the rest of nodes are very very far\r\n",
    "        p[node] = None\r\n",
    "    d[source] = 0 # For the source we know how to reach\r\n",
    "    return d, p"
   ],
   "outputs": [],
   "metadata": {}
  },
  {
   "cell_type": "code",
   "execution_count": 6,
   "source": [
    "def relax(node, neighbor, graph, d, p):\r\n",
    "    # If the distance between the node and the neighbor is lower than the one I have now\r\n",
    "    if d[neighbor] > d[node] + graph[node][neighbor]:\r\n",
    "        # Record this lower distance\r\n",
    "        d[neighbor]  = d[node] + graph[node][neighbor]\r\n",
    "        p[neighbor] = node"
   ],
   "outputs": [],
   "metadata": {}
  },
  {
   "cell_type": "code",
   "execution_count": 7,
   "source": [
    "def retrace_negative_loop(p, start):\r\n",
    "    arbitrageLoop = [start]\r\n",
    "    next_node = start\r\n",
    "    while True:\r\n",
    "        next_node = p[next_node]\r\n",
    "        if next_node not in arbitrageLoop:\r\n",
    "            arbitrageLoop.append(next_node)\r\n",
    "        else:\r\n",
    "            arbitrageLoop.append(next_node)\r\n",
    "            arbitrageLoop = arbitrageLoop[arbitrageLoop.index(next_node):]\r\n",
    "            return arbitrageLoop\r\n"
   ],
   "outputs": [],
   "metadata": {}
  },
  {
   "cell_type": "code",
   "execution_count": 8,
   "source": [
    "def bellman_ford(graph, source):\r\n",
    "    d, p = initialize(graph, source)\r\n",
    "    for i in range(len(graph)-1): #Run this until is converges\r\n",
    "        for u in graph:\r\n",
    "            for v in graph[u]: #For each neighbor of u\r\n",
    "                relax(u, v, graph, d, p) #Lets relax it\r\n",
    "\r\n",
    "\r\n",
    "    # Step 3: check for negative-weight cycles\r\n",
    "    for u in graph:\r\n",
    "        for v in graph[u]:\r\n",
    "            if d[v] < d[u] + graph[u][v]:\r\n",
    "                return(retrace_negative_loop(p, source))\r\n",
    "    return None"
   ],
   "outputs": [],
   "metadata": {}
  },
  {
   "cell_type": "code",
   "execution_count": 9,
   "source": [
    "if __name__ == '__main__':\r\n",
    "    main()"
   ],
   "outputs": [
    {
     "output_type": "stream",
     "name": "stdout",
     "text": [
      "Current Forex Rates:\n",
      "{'USD_JPY': '98.4486753', 'USD_USD': '1.0000000', 'JPY_EUR': '0.0078840', 'BTC_USD': '104.2064075', 'JPY_BTC': '0.0000842', 'USD_EUR': '0.7474524', 'EUR_USD': '1.4579735', 'EUR_JPY': '149.3811004', 'JPY_USD': '0.0101349', 'BTC_BTC': '1.0000000', 'EUR_BTC': '0.0127648', 'BTC_JPY': '10667.2154714', 'JPY_JPY': '1.0000000', 'BTC_EUR': '76.8652920', 'EUR_EUR': '1.0000000', 'USD_BTC': '0.0079770'}\n",
      "\n",
      "\n",
      "<---Arbitrage cycle detected--->\n",
      "Starting with 100 in EUR\n",
      "EUR to JPY at 149.381100 = 14938.110040\n",
      "JPY to EUR at 0.007884 = 117.772060\n",
      "\n",
      "\n",
      "<---Arbitrage cycle detected--->\n",
      "Starting with 100 in JPY\n",
      "JPY to EUR at 0.007884 = 0.788400\n",
      "EUR to JPY at 149.381100 = 117.772060\n",
      "\n",
      "\n"
     ]
    }
   ],
   "metadata": {}
  },
  {
   "cell_type": "code",
   "execution_count": null,
   "source": [],
   "outputs": [],
   "metadata": {}
  }
 ],
 "metadata": {
  "kernelspec": {
   "name": "python3",
   "display_name": "Python 3.7.10 64-bit ('dev': conda)"
  },
  "language_info": {
   "codemirror_mode": {
    "name": "ipython",
    "version": 3
   },
   "file_extension": ".py",
   "mimetype": "text/x-python",
   "name": "python",
   "nbconvert_exporter": "python",
   "pygments_lexer": "ipython3",
   "version": "3.7.10"
  },
  "interpreter": {
   "hash": "48390d2833da2247df558e4a56e27d844f4df4c589404b283c484f42d87c3812"
  }
 },
 "nbformat": 4,
 "nbformat_minor": 4
}