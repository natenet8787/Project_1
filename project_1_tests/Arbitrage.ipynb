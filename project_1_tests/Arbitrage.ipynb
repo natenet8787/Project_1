{
 "cells": [
  {
   "cell_type": "code",
   "execution_count": 1,
   "metadata": {},
   "outputs": [],
   "source": [
    "import json, urllib.request, sys, math, re\n",
    "import numpy as np\n",
    "\n",
    "graph = {}\n",
    "paths = []"
   ]
  },
  {
   "cell_type": "code",
   "execution_count": 2,
   "metadata": {},
   "outputs": [],
   "source": [
    "def main():\n",
    "    forex_rates = get_rates()\n",
    "    print(\"Current Forex Rates:\")\n",
    "    print(forex_rates)\n",
    "    print(\"\\n\")\n",
    "    gr = get_graph(forex_rates)\n",
    "    \n",
    "    for key in graph:\n",
    "        path = bellman_ford(graph, key)\n",
    "        if path not in paths and not None:\n",
    "            paths.append(path)\n",
    "\n",
    "    for path in paths:\n",
    "        if path == None:\n",
    "            print(\"No Arbitrage opportunity detected in current rates :(\")\n",
    "        else:\n",
    "            money = 100\n",
    "            print(\"<---Arbitrage cycle detected--->\")\n",
    "            print(\"Starting with %(money)i in %(currency)s\" % {\"money\":money,\"currency\":path[0]})\n",
    "\n",
    "            for i,value in enumerate(path):\n",
    "                if i+1 < len(path):\n",
    "                    start = path[i]\n",
    "                    end = path[i+1]\n",
    "                    rate = math.exp(-graph[start][end])\n",
    "                    money *= rate\n",
    "                    print(\"%(start)s to %(end)s at %(rate)f = %(money)f\" % {\"start\":start,\"end\":end,\"rate\":rate,\"money\":money})\n",
    "        print(\"\\n\")"
   ]
  },
  {
   "cell_type": "code",
   "execution_count": 3,
   "metadata": {},
   "outputs": [],
   "source": [
    "def get_rates():\n",
    "    try:\n",
    "        forex_url = urllib.request.urlopen(\"http://fx.priceonomics.com/v1/rates/\")\n",
    "        forex_r = forex_url.read()\n",
    "        rates = json.loads(forex_r)\n",
    "    except Exception as e:\n",
    "        print >>sys.stderr, \"Error getting rates:\", e\n",
    "        sys.exit(1)\n",
    "    \n",
    "    return rates"
   ]
  },
  {
   "cell_type": "code",
   "execution_count": 4,
   "metadata": {},
   "outputs": [],
   "source": [
    "def get_graph(forex_rates):\n",
    "    pattern = re.compile(\"([A-Z]{3})_([A-Z]{3})\")\n",
    "    for key in forex_rates:\n",
    "        matches = pattern.match(key)\n",
    "        conversion_rate = -math.log(float(forex_rates[key]))\n",
    "        from_rate = matches.group(1)\n",
    "        to_rate = matches.group(2)\n",
    "        if from_rate != to_rate:\n",
    "            if from_rate not in graph:\n",
    "                graph[from_rate] = {}\n",
    "            graph[from_rate][to_rate] = float(conversion_rate)\n",
    "    return graph"
   ]
  },
  {
   "cell_type": "code",
   "execution_count": 5,
   "metadata": {},
   "outputs": [],
   "source": [
    "def initialize(graph, source):\n",
    "    d = {} # Stands for destination\n",
    "    p = {} # Stands for predecessor\n",
    "    for node in graph:\n",
    "        d[node] = float('Inf') # We start admiting that the rest of nodes are very very far\n",
    "        p[node] = None\n",
    "    d[source] = 0 # For the source we know how to reach\n",
    "    return d, p"
   ]
  },
  {
   "cell_type": "code",
   "execution_count": 6,
   "metadata": {},
   "outputs": [],
   "source": [
    "def relax(node, neighbor, graph, d, p):\n",
    "    # If the distance between the node and the neighbor is lower than the one I have now\n",
    "    if d[neighbor] > d[node] + graph[node][neighbor]:\n",
    "        # Record this lower distance\n",
    "        d[neighbor]  = d[node] + graph[node][neighbor]\n",
    "        p[neighbor] = node"
   ]
  },
  {
   "cell_type": "code",
   "execution_count": 7,
   "metadata": {},
   "outputs": [],
   "source": [
    "def retrace_negative_loop(p, start):\n",
    "    arbitrageLoop = [start]\n",
    "    next_node = start\n",
    "    while True:\n",
    "        next_node = p[next_node]\n",
    "        if next_node not in arbitrageLoop:\n",
    "            arbitrageLoop.append(next_node)\n",
    "        else:\n",
    "            arbitrageLoop.append(next_node)\n",
    "            arbitrageLoop = arbitrageLoop[arbitrageLoop.index(next_node):]\n",
    "            return arbitrageLoop\n"
   ]
  },
  {
   "cell_type": "code",
   "execution_count": 8,
   "metadata": {},
   "outputs": [],
   "source": [
    "def bellman_ford(graph, source):\n",
    "    d, p = initialize(graph, source)\n",
    "    for i in range(len(graph)-1): #Run this until is converges\n",
    "        for u in graph:\n",
    "            for v in graph[u]: #For each neighbor of u\n",
    "                relax(u, v, graph, d, p) #Lets relax it\n",
    "\n",
    "\n",
    "    # Step 3: check for negative-weight cycles\n",
    "    for u in graph:\n",
    "        for v in graph[u]:\n",
    "            if d[v] < d[u] + graph[u][v]:\n",
    "                return(retrace_negative_loop(p, source))\n",
    "    return None"
   ]
  },
  {
   "cell_type": "code",
   "execution_count": 9,
   "metadata": {},
   "outputs": [
    {
     "name": "stdout",
     "output_type": "stream",
     "text": [
      "Current Forex Rates:\n",
      "{'USD_JPY': '89.2384542', 'USD_USD': '1.0000000', 'JPY_EUR': '0.0085665', 'BTC_USD': '113.7636475', 'JPY_BTC': '0.0000915', 'USD_EUR': '0.6775256', 'EUR_USD': '1.3559767', 'EUR_JPY': '138.9307164', 'JPY_USD': '0.0110122', 'BTC_BTC': '1.0000000', 'EUR_BTC': '0.0118718', 'BTC_JPY': '11645.5539436', 'JPY_JPY': '1.0000000', 'BTC_EUR': '83.9149548', 'EUR_EUR': '1.0000000', 'USD_BTC': '0.0072307'}\n",
      "\n",
      "\n",
      "<---Arbitrage cycle detected--->\n",
      "Starting with 100 in EUR\n",
      "EUR to JPY at 138.930716 = 13893.071640\n",
      "JPY to EUR at 0.008566 = 119.014998\n",
      "\n",
      "\n",
      "<---Arbitrage cycle detected--->\n",
      "Starting with 100 in JPY\n",
      "JPY to EUR at 0.008566 = 0.856650\n",
      "EUR to JPY at 138.930716 = 119.014998\n",
      "\n",
      "\n"
     ]
    }
   ],
   "source": [
    "if __name__ == '__main__':\n",
    "    main()"
   ]
  },
  {
   "cell_type": "code",
   "execution_count": null,
   "metadata": {},
   "outputs": [],
   "source": []
  }
 ],
 "metadata": {
  "kernelspec": {
   "display_name": "Python 3",
   "language": "python",
   "name": "python3"
  },
  "language_info": {
   "codemirror_mode": {
    "name": "ipython",
    "version": 3
   },
   "file_extension": ".py",
   "mimetype": "text/x-python",
   "name": "python",
   "nbconvert_exporter": "python",
   "pygments_lexer": "ipython3",
   "version": "3.7.10"
  }
 },
 "nbformat": 4,
 "nbformat_minor": 4
}
