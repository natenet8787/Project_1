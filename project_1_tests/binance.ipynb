{
 "cells": [
  {
   "cell_type": "code",
   "execution_count": 1,
   "id": "f5654268",
   "metadata": {},
   "outputs": [],
   "source": [
    "from collections import defaultdict\n",
    "from operator import itemgetter\n",
    "from time import time\n",
    "\n",
    "from binance.client import Client"
   ]
  },
  {
   "cell_type": "code",
   "execution_count": 2,
   "id": "1b38e623",
   "metadata": {},
   "outputs": [],
   "source": [
    "FEE = 0.000000005\n",
    "PRIMARY = ['BTC', 'ETH', 'BETH', 'USDT']"
   ]
  },
  {
   "cell_type": "code",
   "execution_count": 3,
   "id": "2e62220b",
   "metadata": {},
   "outputs": [],
   "source": [
    "def main():\n",
    "    start_time = time()\n",
    "\n",
    "    prices = get_prices()\n",
    "    prices_time = time()\n",
    "    print(f\"Downloaded in: {prices_time - start_time:.4f}s\")\n",
    "\n",
    "    triangles = list(find_triangles(prices))\n",
    "    print(f\"Computed in: {time() - prices_time:.4f}s\")\n",
    "\n",
    "    if triangles:\n",
    "        for triangle in sorted(triangles, key=itemgetter('profit'), reverse=True):\n",
    "            describe_triangle(prices, triangle)\n",
    "    else:\n",
    "        print(\"No triangles found, try again!\")"
   ]
  },
  {
   "cell_type": "code",
   "execution_count": 4,
   "id": "01b3513a",
   "metadata": {},
   "outputs": [],
   "source": [
    "def get_prices():\n",
    "    client = Client(None, None)\n",
    "    prices = client.get_orderbook_tickers()\n",
    "    prepared = defaultdict(dict)\n",
    "    for ticker in prices:\n",
    "        pair = ticker['symbol']\n",
    "        ask = float(ticker['askPrice'])\n",
    "        bid = float(ticker['bidPrice'])\n",
    "        if ask == 0.0:\n",
    "            continue\n",
    "        for primary in PRIMARY:\n",
    "            if pair.endswith(primary):\n",
    "                secondary = pair[:-len(primary)]\n",
    "                prepared[primary][secondary] = 1 / ask\n",
    "                prepared[secondary][primary] = bid\n",
    "    return prepared"
   ]
  },
  {
   "cell_type": "code",
   "execution_count": 5,
   "id": "25aeeb8e",
   "metadata": {},
   "outputs": [],
   "source": [
    "def find_triangles(prices):\n",
    "    triangles = []\n",
    "    starting_coin = 'ETH'\n",
    "    for triangle in recurse_triangle(prices, starting_coin, starting_coin):\n",
    "        coins = set(triangle['coins'])\n",
    "        if not any(prev_triangle == coins for prev_triangle in triangles):\n",
    "            yield triangle\n",
    "            triangles.append(coins)"
   ]
  },
  {
   "cell_type": "code",
   "execution_count": 6,
   "id": "88300a7d",
   "metadata": {},
   "outputs": [],
   "source": [
    "def recurse_triangle(prices, current_coin, starting_coin, depth_left=3, amount=1.0):\n",
    "    if depth_left > 0:\n",
    "        pairs = prices[current_coin]\n",
    "        for coin, price in pairs.items():\n",
    "            new_price = (amount * price) * (1.0 - FEE)\n",
    "            for triangle in recurse_triangle(prices, coin, starting_coin, depth_left - 1, new_price):\n",
    "                triangle['coins'] = triangle['coins'] + [current_coin]\n",
    "                yield triangle\n",
    "    elif current_coin == starting_coin and amount > 1.0:\n",
    "        yield {\n",
    "            'coins': [current_coin],\n",
    "            'profit': amount\n",
    "        }"
   ]
  },
  {
   "cell_type": "code",
   "execution_count": 7,
   "id": "115655e5",
   "metadata": {},
   "outputs": [],
   "source": [
    "def describe_triangle(prices, triangle):\n",
    "    coins = triangle['coins']\n",
    "    price_percentage = (triangle['profit'] - 1.0) * 100\n",
    "    print(f\"{'->'.join(coins):26} {round(price_percentage, 4):-7}% <- profit!\")\n",
    "    for i in range(len(coins) - 1):\n",
    "        first = coins[i]\n",
    "        second = coins[i + 1]\n",
    "        print(f\"     {second:4} / {first:4}: {prices[first][second]:-17.8f}\")\n",
    "    print('')"
   ]
  },
  {
   "cell_type": "code",
   "execution_count": 8,
   "id": "9a20ad71",
   "metadata": {},
   "outputs": [
    {
     "name": "stdout",
     "output_type": "stream",
     "text": [
      "Downloaded in: 0.9750s\n",
      "Computed in: 0.0143s\n",
      "ETH->DASH->USDT->ETH        0.0259% <- profit!\n",
      "     DASH / ETH :       17.31601732\n",
      "     USDT / DASH:      189.27000000\n",
      "     ETH  / USDT:        0.00030450\n",
      "\n",
      "ETH->USDT->NANO->ETH        0.0207% <- profit!\n",
      "     USDT / ETH :     3284.11000000\n",
      "     NANO / USDT:        0.14970956\n",
      "     ETH  / NANO:        0.00202700\n",
      "\n",
      "ETH->USDT->BNB->ETH         0.0139% <- profit!\n",
      "     USDT / ETH :     3284.11000000\n",
      "     BNB  / USDT:        0.00247255\n",
      "     ETH  / BNB :        0.12306000\n",
      "\n"
     ]
    }
   ],
   "source": [
    "if __name__ == '__main__':\n",
    "    main()"
   ]
  },
  {
   "cell_type": "code",
   "execution_count": null,
   "id": "15c33d43",
   "metadata": {},
   "outputs": [],
   "source": []
  },
  {
   "cell_type": "code",
   "execution_count": null,
   "id": "34c5ebe5",
   "metadata": {},
   "outputs": [],
   "source": []
  }
 ],
 "metadata": {
  "kernelspec": {
   "display_name": "dev",
   "language": "python",
   "name": "dev"
  },
  "language_info": {
   "codemirror_mode": {
    "name": "ipython",
    "version": 3
   },
   "file_extension": ".py",
   "mimetype": "text/x-python",
   "name": "python",
   "nbconvert_exporter": "python",
   "pygments_lexer": "ipython3",
   "version": "3.7.10"
  }
 },
 "nbformat": 4,
 "nbformat_minor": 5
}
